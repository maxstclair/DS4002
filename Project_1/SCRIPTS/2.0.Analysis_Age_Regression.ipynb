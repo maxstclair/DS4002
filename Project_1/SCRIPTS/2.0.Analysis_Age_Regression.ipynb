{
  "nbformat": 4,
  "nbformat_minor": 0,
  "metadata": {
    "colab": {
      "provenance": [],
      "authorship_tag": "ABX9TyMS5x43pwbdVRYQR9lNgGCZ",
      "include_colab_link": true
    },
    "kernelspec": {
      "name": "python3",
      "display_name": "Python 3"
    },
    "language_info": {
      "name": "python"
    }
  },
  "cells": [
    {
      "cell_type": "markdown",
      "metadata": {
        "id": "view-in-github",
        "colab_type": "text"
      },
      "source": [
        "<a href=\"https://colab.research.google.com/github/maxstclair/DS4002/blob/main/Project_1/SCRIPTS/Age_Regression.ipynb\" target=\"_parent\"><img src=\"https://colab.research.google.com/assets/colab-badge.svg\" alt=\"Open In Colab\"/></a>"
      ]
    },
    {
      "cell_type": "markdown",
      "source": [
        "We looked at the relationship between restaurant age and review sentiment using a linear regression and non-linear regression."
      ],
      "metadata": {
        "id": "uNQy2ZgWHqQh"
      }
    },
    {
      "cell_type": "markdown",
      "source": [
        "# Importing data and packages"
      ],
      "metadata": {
        "id": "5YWjnH-iIXwv"
      }
    },
    {
      "cell_type": "code",
      "execution_count": null,
      "metadata": {
        "id": "wQoaGYcIVFig",
        "colab": {
          "base_uri": "https://localhost:8080/"
        },
        "outputId": "678935e3-99ae-4f9f-93aa-67a1a805aebb"
      },
      "outputs": [
        {
          "output_type": "stream",
          "name": "stdout",
          "text": [
            "Cloning into 'DS4002'...\n",
            "remote: Enumerating objects: 339, done.\u001b[K\n",
            "remote: Counting objects: 100% (109/109), done.\u001b[K\n",
            "remote: Compressing objects: 100% (85/85), done.\u001b[K\n",
            "remote: Total 339 (delta 29), reused 3 (delta 3), pack-reused 230 (from 1)\u001b[K\n",
            "Receiving objects: 100% (339/339), 2.06 MiB | 5.10 MiB/s, done.\n",
            "Resolving deltas: 100% (80/80), done.\n"
          ]
        }
      ],
      "source": [
        "! git clone https://github.com/maxstclair/DS4002"
      ]
    },
    {
      "cell_type": "code",
      "source": [
        "import pandas as pd\n",
        "import statsmodels.api as sm\n",
        "import numpy as np\n",
        "import matplotlib.pyplot as plt\n",
        "import seaborn as sns"
      ],
      "metadata": {
        "id": "octCGX7gXU7u"
      },
      "execution_count": null,
      "outputs": []
    },
    {
      "cell_type": "code",
      "source": [
        "df = pd.read_csv(\"/content/DS4002/Project_1/DATA/final_restaurant_df.csv\")"
      ],
      "metadata": {
        "id": "H2f5vUE7XgMA"
      },
      "execution_count": null,
      "outputs": []
    },
    {
      "cell_type": "code",
      "source": [
        "df.head()"
      ],
      "metadata": {
        "colab": {
          "base_uri": "https://localhost:8080/",
          "height": 328
        },
        "id": "YiU5W7E6XuQ1",
        "outputId": "5c446ddf-1d66-459d-a751-1577bb21b0a7"
      },
      "execution_count": null,
      "outputs": [
        {
          "output_type": "execute_result",
          "data": {
            "text/plain": [
              "   Unnamed: 0        Date  Rating  \\\n",
              "0           0  2023-02-19     5.0   \n",
              "1           1  2023-02-19     5.0   \n",
              "2           2  2023-02-26     5.0   \n",
              "3           3  2023-05-03     4.0   \n",
              "4           4  2023-08-03     5.0   \n",
              "\n",
              "                                             Message  Author Reviews  \\\n",
              "0  This place was better than the 3 Michelin-star...            82.0   \n",
              "1  I have to say, this place is a steakhouse like...           113.0   \n",
              "2  Loved this place! They were completely booked ...            28.0   \n",
              "3  Food is excellent, best steak in a very long t...            24.0   \n",
              "4  The food here is incredible! The service was e...            23.0   \n",
              "\n",
              "  Restaurant  sentiment  DayOfWeek  \n",
              "0  Black Cow     0.9965     Sunday  \n",
              "1  Black Cow     0.9674     Sunday  \n",
              "2  Black Cow     0.9937     Sunday  \n",
              "3  Black Cow     0.7604  Wednesday  \n",
              "4  Black Cow     0.9845   Thursday  "
            ],
            "text/html": [
              "\n",
              "  <div id=\"df-64a4efc9-d4ff-4698-8698-c0587fbd105b\" class=\"colab-df-container\">\n",
              "    <div>\n",
              "<style scoped>\n",
              "    .dataframe tbody tr th:only-of-type {\n",
              "        vertical-align: middle;\n",
              "    }\n",
              "\n",
              "    .dataframe tbody tr th {\n",
              "        vertical-align: top;\n",
              "    }\n",
              "\n",
              "    .dataframe thead th {\n",
              "        text-align: right;\n",
              "    }\n",
              "</style>\n",
              "<table border=\"1\" class=\"dataframe\">\n",
              "  <thead>\n",
              "    <tr style=\"text-align: right;\">\n",
              "      <th></th>\n",
              "      <th>Unnamed: 0</th>\n",
              "      <th>Date</th>\n",
              "      <th>Rating</th>\n",
              "      <th>Message</th>\n",
              "      <th>Author Reviews</th>\n",
              "      <th>Restaurant</th>\n",
              "      <th>sentiment</th>\n",
              "      <th>DayOfWeek</th>\n",
              "    </tr>\n",
              "  </thead>\n",
              "  <tbody>\n",
              "    <tr>\n",
              "      <th>0</th>\n",
              "      <td>0</td>\n",
              "      <td>2023-02-19</td>\n",
              "      <td>5.0</td>\n",
              "      <td>This place was better than the 3 Michelin-star...</td>\n",
              "      <td>82.0</td>\n",
              "      <td>Black Cow</td>\n",
              "      <td>0.9965</td>\n",
              "      <td>Sunday</td>\n",
              "    </tr>\n",
              "    <tr>\n",
              "      <th>1</th>\n",
              "      <td>1</td>\n",
              "      <td>2023-02-19</td>\n",
              "      <td>5.0</td>\n",
              "      <td>I have to say, this place is a steakhouse like...</td>\n",
              "      <td>113.0</td>\n",
              "      <td>Black Cow</td>\n",
              "      <td>0.9674</td>\n",
              "      <td>Sunday</td>\n",
              "    </tr>\n",
              "    <tr>\n",
              "      <th>2</th>\n",
              "      <td>2</td>\n",
              "      <td>2023-02-26</td>\n",
              "      <td>5.0</td>\n",
              "      <td>Loved this place! They were completely booked ...</td>\n",
              "      <td>28.0</td>\n",
              "      <td>Black Cow</td>\n",
              "      <td>0.9937</td>\n",
              "      <td>Sunday</td>\n",
              "    </tr>\n",
              "    <tr>\n",
              "      <th>3</th>\n",
              "      <td>3</td>\n",
              "      <td>2023-05-03</td>\n",
              "      <td>4.0</td>\n",
              "      <td>Food is excellent, best steak in a very long t...</td>\n",
              "      <td>24.0</td>\n",
              "      <td>Black Cow</td>\n",
              "      <td>0.7604</td>\n",
              "      <td>Wednesday</td>\n",
              "    </tr>\n",
              "    <tr>\n",
              "      <th>4</th>\n",
              "      <td>4</td>\n",
              "      <td>2023-08-03</td>\n",
              "      <td>5.0</td>\n",
              "      <td>The food here is incredible! The service was e...</td>\n",
              "      <td>23.0</td>\n",
              "      <td>Black Cow</td>\n",
              "      <td>0.9845</td>\n",
              "      <td>Thursday</td>\n",
              "    </tr>\n",
              "  </tbody>\n",
              "</table>\n",
              "</div>\n",
              "    <div class=\"colab-df-buttons\">\n",
              "\n",
              "  <div class=\"colab-df-container\">\n",
              "    <button class=\"colab-df-convert\" onclick=\"convertToInteractive('df-64a4efc9-d4ff-4698-8698-c0587fbd105b')\"\n",
              "            title=\"Convert this dataframe to an interactive table.\"\n",
              "            style=\"display:none;\">\n",
              "\n",
              "  <svg xmlns=\"http://www.w3.org/2000/svg\" height=\"24px\" viewBox=\"0 -960 960 960\">\n",
              "    <path d=\"M120-120v-720h720v720H120Zm60-500h600v-160H180v160Zm220 220h160v-160H400v160Zm0 220h160v-160H400v160ZM180-400h160v-160H180v160Zm440 0h160v-160H620v160ZM180-180h160v-160H180v160Zm440 0h160v-160H620v160Z\"/>\n",
              "  </svg>\n",
              "    </button>\n",
              "\n",
              "  <style>\n",
              "    .colab-df-container {\n",
              "      display:flex;\n",
              "      gap: 12px;\n",
              "    }\n",
              "\n",
              "    .colab-df-convert {\n",
              "      background-color: #E8F0FE;\n",
              "      border: none;\n",
              "      border-radius: 50%;\n",
              "      cursor: pointer;\n",
              "      display: none;\n",
              "      fill: #1967D2;\n",
              "      height: 32px;\n",
              "      padding: 0 0 0 0;\n",
              "      width: 32px;\n",
              "    }\n",
              "\n",
              "    .colab-df-convert:hover {\n",
              "      background-color: #E2EBFA;\n",
              "      box-shadow: 0px 1px 2px rgba(60, 64, 67, 0.3), 0px 1px 3px 1px rgba(60, 64, 67, 0.15);\n",
              "      fill: #174EA6;\n",
              "    }\n",
              "\n",
              "    .colab-df-buttons div {\n",
              "      margin-bottom: 4px;\n",
              "    }\n",
              "\n",
              "    [theme=dark] .colab-df-convert {\n",
              "      background-color: #3B4455;\n",
              "      fill: #D2E3FC;\n",
              "    }\n",
              "\n",
              "    [theme=dark] .colab-df-convert:hover {\n",
              "      background-color: #434B5C;\n",
              "      box-shadow: 0px 1px 3px 1px rgba(0, 0, 0, 0.15);\n",
              "      filter: drop-shadow(0px 1px 2px rgba(0, 0, 0, 0.3));\n",
              "      fill: #FFFFFF;\n",
              "    }\n",
              "  </style>\n",
              "\n",
              "    <script>\n",
              "      const buttonEl =\n",
              "        document.querySelector('#df-64a4efc9-d4ff-4698-8698-c0587fbd105b button.colab-df-convert');\n",
              "      buttonEl.style.display =\n",
              "        google.colab.kernel.accessAllowed ? 'block' : 'none';\n",
              "\n",
              "      async function convertToInteractive(key) {\n",
              "        const element = document.querySelector('#df-64a4efc9-d4ff-4698-8698-c0587fbd105b');\n",
              "        const dataTable =\n",
              "          await google.colab.kernel.invokeFunction('convertToInteractive',\n",
              "                                                    [key], {});\n",
              "        if (!dataTable) return;\n",
              "\n",
              "        const docLinkHtml = 'Like what you see? Visit the ' +\n",
              "          '<a target=\"_blank\" href=https://colab.research.google.com/notebooks/data_table.ipynb>data table notebook</a>'\n",
              "          + ' to learn more about interactive tables.';\n",
              "        element.innerHTML = '';\n",
              "        dataTable['output_type'] = 'display_data';\n",
              "        await google.colab.output.renderOutput(dataTable, element);\n",
              "        const docLink = document.createElement('div');\n",
              "        docLink.innerHTML = docLinkHtml;\n",
              "        element.appendChild(docLink);\n",
              "      }\n",
              "    </script>\n",
              "  </div>\n",
              "\n",
              "\n",
              "<div id=\"df-aca7dc86-5da6-4b31-8abc-46e8828ff1a0\">\n",
              "  <button class=\"colab-df-quickchart\" onclick=\"quickchart('df-aca7dc86-5da6-4b31-8abc-46e8828ff1a0')\"\n",
              "            title=\"Suggest charts\"\n",
              "            style=\"display:none;\">\n",
              "\n",
              "<svg xmlns=\"http://www.w3.org/2000/svg\" height=\"24px\"viewBox=\"0 0 24 24\"\n",
              "     width=\"24px\">\n",
              "    <g>\n",
              "        <path d=\"M19 3H5c-1.1 0-2 .9-2 2v14c0 1.1.9 2 2 2h14c1.1 0 2-.9 2-2V5c0-1.1-.9-2-2-2zM9 17H7v-7h2v7zm4 0h-2V7h2v10zm4 0h-2v-4h2v4z\"/>\n",
              "    </g>\n",
              "</svg>\n",
              "  </button>\n",
              "\n",
              "<style>\n",
              "  .colab-df-quickchart {\n",
              "      --bg-color: #E8F0FE;\n",
              "      --fill-color: #1967D2;\n",
              "      --hover-bg-color: #E2EBFA;\n",
              "      --hover-fill-color: #174EA6;\n",
              "      --disabled-fill-color: #AAA;\n",
              "      --disabled-bg-color: #DDD;\n",
              "  }\n",
              "\n",
              "  [theme=dark] .colab-df-quickchart {\n",
              "      --bg-color: #3B4455;\n",
              "      --fill-color: #D2E3FC;\n",
              "      --hover-bg-color: #434B5C;\n",
              "      --hover-fill-color: #FFFFFF;\n",
              "      --disabled-bg-color: #3B4455;\n",
              "      --disabled-fill-color: #666;\n",
              "  }\n",
              "\n",
              "  .colab-df-quickchart {\n",
              "    background-color: var(--bg-color);\n",
              "    border: none;\n",
              "    border-radius: 50%;\n",
              "    cursor: pointer;\n",
              "    display: none;\n",
              "    fill: var(--fill-color);\n",
              "    height: 32px;\n",
              "    padding: 0;\n",
              "    width: 32px;\n",
              "  }\n",
              "\n",
              "  .colab-df-quickchart:hover {\n",
              "    background-color: var(--hover-bg-color);\n",
              "    box-shadow: 0 1px 2px rgba(60, 64, 67, 0.3), 0 1px 3px 1px rgba(60, 64, 67, 0.15);\n",
              "    fill: var(--button-hover-fill-color);\n",
              "  }\n",
              "\n",
              "  .colab-df-quickchart-complete:disabled,\n",
              "  .colab-df-quickchart-complete:disabled:hover {\n",
              "    background-color: var(--disabled-bg-color);\n",
              "    fill: var(--disabled-fill-color);\n",
              "    box-shadow: none;\n",
              "  }\n",
              "\n",
              "  .colab-df-spinner {\n",
              "    border: 2px solid var(--fill-color);\n",
              "    border-color: transparent;\n",
              "    border-bottom-color: var(--fill-color);\n",
              "    animation:\n",
              "      spin 1s steps(1) infinite;\n",
              "  }\n",
              "\n",
              "  @keyframes spin {\n",
              "    0% {\n",
              "      border-color: transparent;\n",
              "      border-bottom-color: var(--fill-color);\n",
              "      border-left-color: var(--fill-color);\n",
              "    }\n",
              "    20% {\n",
              "      border-color: transparent;\n",
              "      border-left-color: var(--fill-color);\n",
              "      border-top-color: var(--fill-color);\n",
              "    }\n",
              "    30% {\n",
              "      border-color: transparent;\n",
              "      border-left-color: var(--fill-color);\n",
              "      border-top-color: var(--fill-color);\n",
              "      border-right-color: var(--fill-color);\n",
              "    }\n",
              "    40% {\n",
              "      border-color: transparent;\n",
              "      border-right-color: var(--fill-color);\n",
              "      border-top-color: var(--fill-color);\n",
              "    }\n",
              "    60% {\n",
              "      border-color: transparent;\n",
              "      border-right-color: var(--fill-color);\n",
              "    }\n",
              "    80% {\n",
              "      border-color: transparent;\n",
              "      border-right-color: var(--fill-color);\n",
              "      border-bottom-color: var(--fill-color);\n",
              "    }\n",
              "    90% {\n",
              "      border-color: transparent;\n",
              "      border-bottom-color: var(--fill-color);\n",
              "    }\n",
              "  }\n",
              "</style>\n",
              "\n",
              "  <script>\n",
              "    async function quickchart(key) {\n",
              "      const quickchartButtonEl =\n",
              "        document.querySelector('#' + key + ' button');\n",
              "      quickchartButtonEl.disabled = true;  // To prevent multiple clicks.\n",
              "      quickchartButtonEl.classList.add('colab-df-spinner');\n",
              "      try {\n",
              "        const charts = await google.colab.kernel.invokeFunction(\n",
              "            'suggestCharts', [key], {});\n",
              "      } catch (error) {\n",
              "        console.error('Error during call to suggestCharts:', error);\n",
              "      }\n",
              "      quickchartButtonEl.classList.remove('colab-df-spinner');\n",
              "      quickchartButtonEl.classList.add('colab-df-quickchart-complete');\n",
              "    }\n",
              "    (() => {\n",
              "      let quickchartButtonEl =\n",
              "        document.querySelector('#df-aca7dc86-5da6-4b31-8abc-46e8828ff1a0 button');\n",
              "      quickchartButtonEl.style.display =\n",
              "        google.colab.kernel.accessAllowed ? 'block' : 'none';\n",
              "    })();\n",
              "  </script>\n",
              "</div>\n",
              "\n",
              "    </div>\n",
              "  </div>\n"
            ],
            "application/vnd.google.colaboratory.intrinsic+json": {
              "type": "dataframe",
              "variable_name": "df",
              "summary": "{\n  \"name\": \"df\",\n  \"rows\": 2566,\n  \"fields\": [\n    {\n      \"column\": \"Unnamed: 0\",\n      \"properties\": {\n        \"dtype\": \"number\",\n        \"std\": 263,\n        \"min\": 0,\n        \"max\": 960,\n        \"num_unique_values\": 961,\n        \"samples\": [\n          344,\n          381,\n          351\n        ],\n        \"semantic_type\": \"\",\n        \"description\": \"\"\n      }\n    },\n    {\n      \"column\": \"Date\",\n      \"properties\": {\n        \"dtype\": \"object\",\n        \"num_unique_values\": 1556,\n        \"samples\": [\n          \"2022-03-08\",\n          \"2023-05-23\",\n          \"2021-08-02\"\n        ],\n        \"semantic_type\": \"\",\n        \"description\": \"\"\n      }\n    },\n    {\n      \"column\": \"Rating\",\n      \"properties\": {\n        \"dtype\": \"number\",\n        \"std\": 1.1931613447284852,\n        \"min\": 1.0,\n        \"max\": 5.0,\n        \"num_unique_values\": 5,\n        \"samples\": [\n          4.0,\n          3.0,\n          2.0\n        ],\n        \"semantic_type\": \"\",\n        \"description\": \"\"\n      }\n    },\n    {\n      \"column\": \"Message\",\n      \"properties\": {\n        \"dtype\": \"string\",\n        \"num_unique_values\": 2433,\n        \"samples\": [\n          \"Food was awesome. Service was so so, no one seemed like they wanted to be there. Went with a party of 7 and told when we got the check it could only be split 4 ways, very inconvenient. If we had been told that up front we could have split up. Overall food was really good but the rest of the experience wasn't up to par.\",\n          \"Loved this place! We were there in a perfect afternoon so we could sit outside, which is the perfect way to enjoy their Sangria! There were so many choices to choose from! We had 6 people and ended up getting about 8-9 dishes! Each dish was delicious! Also the service was super fast! Everything came out about ( minutes after we ordered it so if you need a nice fast dinner definitely go here.\\n\\nNotable faves: jamon y queso (got the large and it was more than enough), grilled octopus, Pat Atlas bravas\",\n          \"We went to Orzo for the 1st time (there will be a 2nd!) last night. The service was spot on (thank you Todd!) and I LOVED my Summer Risotto! So flavorful. My partner wasnt blown away by his bouillabase (altho he ate every bite) hence the 4 not 5 stars but the atmosphere, the food, the service were 5s in my opinion. I look forward to going back soon.\\nNote: as a pescatarian I struggle to find a restaurant that serves flavor and doesnt phone in the vegetarian option(s). Orzo didnt dial in anything. They were attentive but not smothering, the food was fresh and flavorful, and the seating was comfortable and not cramped. Excited to have found Orzo!\"\n        ],\n        \"semantic_type\": \"\",\n        \"description\": \"\"\n      }\n    },\n    {\n      \"column\": \"Author Reviews\",\n      \"properties\": {\n        \"dtype\": \"number\",\n        \"std\": 736.2604826741934,\n        \"min\": 1.0,\n        \"max\": 23666.0,\n        \"num_unique_values\": 424,\n        \"samples\": [\n          223.0,\n          62.0,\n          176.0\n        ],\n        \"semantic_type\": \"\",\n        \"description\": \"\"\n      }\n    },\n    {\n      \"column\": \"Restaurant\",\n      \"properties\": {\n        \"dtype\": \"category\",\n        \"num_unique_values\": 22,\n        \"samples\": [\n          \"Black Cow\",\n          \"ridley\",\n          \"Guad\"\n        ],\n        \"semantic_type\": \"\",\n        \"description\": \"\"\n      }\n    },\n    {\n      \"column\": \"sentiment\",\n      \"properties\": {\n        \"dtype\": \"number\",\n        \"std\": 0.4239418062620103,\n        \"min\": -0.9742,\n        \"max\": 0.9995,\n        \"num_unique_values\": 1324,\n        \"samples\": [\n          0.8478,\n          -0.8957,\n          -0.6048\n        ],\n        \"semantic_type\": \"\",\n        \"description\": \"\"\n      }\n    },\n    {\n      \"column\": \"DayOfWeek\",\n      \"properties\": {\n        \"dtype\": \"category\",\n        \"num_unique_values\": 7,\n        \"samples\": [\n          \"Sunday\",\n          \"Wednesday\",\n          \"Monday\"\n        ],\n        \"semantic_type\": \"\",\n        \"description\": \"\"\n      }\n    }\n  ]\n}"
            }
          },
          "metadata": {},
          "execution_count": 5
        }
      ]
    },
    {
      "cell_type": "markdown",
      "source": [
        "# Adding restaurant opening year, age, and age category"
      ],
      "metadata": {
        "id": "CbpQhMCUIesM"
      }
    },
    {
      "cell_type": "code",
      "source": [
        "df['Opening'] = df['Restaurant'].apply(lambda x: 1923 if x == \"The Virginian\"\n",
        "                                   else (2006 if x == \"Ten\"\n",
        "                                         else ( 1995 if x == \"Vivace\"\n",
        "                                         else ( 1976 if x == \"C&O\"\n",
        "                                         else ( 2003 if x == \"Mas Tapas\"\n",
        "                                         else ( 2008 if x == \"The Local\"\n",
        "                                         else ( 2009 if x == \"Tavalo\"\n",
        "                                         else ( 2014 if x == \"Lampo\"\n",
        "                                         else ( 1983 if x == \"Duners\"\n",
        "                                         else ( 2011 if x == \"Monsoon\"\n",
        "                                         else ( 2021 if x == \"ridley\"\n",
        "                                         else ( 2007 if x == \"petitpous\"\n",
        "                                         else ( 2015 if x == \"Brazos\"\n",
        "                                         else ( 1988 if x == \"Guad\"\n",
        "                                         else ( 2014 if x == \"Oakhart\"\n",
        "                                         else ( 2014 if x == \"publicfish\"\n",
        "                                         else ( 2016 if x == \"Black Cow\"\n",
        "                                         else ( 2019 if x == \"Belle\"\n",
        "                                         else ( 2002 if x == \"Bang\"\n",
        "                                         else ( 2018 if x == \"Asado\"\n",
        "                                         else ( 2022 if x == \"Smyrna\"\n",
        "                                         else ( 2006 if x == \"Doma\"\n",
        "                                         else 2016))))))))))))))))))))))\n"
      ],
      "metadata": {
        "id": "Fr70kklHclI4"
      },
      "execution_count": null,
      "outputs": []
    },
    {
      "cell_type": "code",
      "source": [
        "df['Age'] = 2025 - df.Opening"
      ],
      "metadata": {
        "id": "4E4Bs6Qrjxk5"
      },
      "execution_count": null,
      "outputs": []
    },
    {
      "cell_type": "code",
      "source": [
        "df['Age_Category'] = df['Age'].apply(lambda x: 'Old' if x > 20\n",
        "                                   else 'New')"
      ],
      "metadata": {
        "id": "FAD4ES2ukDer"
      },
      "execution_count": null,
      "outputs": []
    },
    {
      "cell_type": "markdown",
      "source": [
        "# Plot age vs. sentiment\n",
        "\n",
        "There appears to be no correlation between the two variables."
      ],
      "metadata": {
        "id": "Q4kNVuuQIuv0"
      }
    },
    {
      "cell_type": "code",
      "source": [
        "sns.regplot(x=df['Age'], y=df['sentiment'])\n",
        "plt.xlabel('Restaurant Age')\n",
        "plt.ylabel('Average Rating')\n",
        "plt.title('Restaurant Age vs Sentiment')\n",
        "plt.show()"
      ],
      "metadata": {
        "id": "Lwwkozh0lC_k",
        "outputId": "22e9ab28-5f88-4d80-fe7a-59d7a1ba1ea3",
        "colab": {
          "base_uri": "https://localhost:8080/",
          "height": 472
        }
      },
      "execution_count": null,
      "outputs": [
        {
          "output_type": "display_data",
          "data": {
            "text/plain": [
              "<Figure size 640x480 with 1 Axes>"
            ],
            "image/png": "[encoded data removed]"
          },
          "metadata": {}
        }
      ]
    },
    {
      "cell_type": "markdown",
      "source": [
        "# Simple Linear Model\n",
        "\n",
        "R^2 is 0.000, so we will try another model."
      ],
      "metadata": {
        "id": "NluwYJaNcAC3"
      }
    },
    {
      "cell_type": "code",
      "source": [
        "X = df['Age']\n",
        "y = df['sentiment']  # or sentiment_score\n",
        "X = sm.add_constant(X)  # Adds intercept\n",
        "\n",
        "model = sm.OLS(y, X).fit()\n",
        "print(model.summary())"
      ],
      "metadata": {
        "colab": {
          "base_uri": "https://localhost:8080/"
        },
        "id": "is1e4a5mcByU",
        "outputId": "0d858567-41ca-4bca-c7ea-19c6ba5c29ee"
      },
      "execution_count": null,
      "outputs": [
        {
          "output_type": "stream",
          "name": "stdout",
          "text": [
            "                            OLS Regression Results                            \n",
            "==============================================================================\n",
            "Dep. Variable:              sentiment   R-squared:                       0.000\n",
            "Model:                            OLS   Adj. R-squared:                 -0.000\n",
            "Method:                 Least Squares   F-statistic:                   0.01061\n",
            "Date:                Tue, 11 Feb 2025   Prob (F-statistic):              0.918\n",
            "Time:                        19:52:34   Log-Likelihood:                -1438.5\n",
            "No. Observations:                2566   AIC:                             2881.\n",
            "Df Residuals:                    2564   BIC:                             2893.\n",
            "Df Model:                           1                                         \n",
            "Covariance Type:            nonrobust                                         \n",
            "==============================================================================\n",
            "                 coef    std err          t      P>|t|      [0.025      0.975]\n",
            "------------------------------------------------------------------------------\n",
            "const          0.7826      0.014     57.031      0.000       0.756       0.810\n",
            "Age        -6.984e-05      0.001     -0.103      0.918      -0.001       0.001\n",
            "==============================================================================\n",
            "Omnibus:                     1420.769   Durbin-Watson:                   1.892\n",
            "Prob(Omnibus):                  0.000   Jarque-Bera (JB):             7934.312\n",
            "Skew:                          -2.734   Prob(JB):                         0.00\n",
            "Kurtosis:                       9.657   Cond. No.                         33.2\n",
            "==============================================================================\n",
            "\n",
            "Notes:\n",
            "[1] Standard Errors assume that the covariance matrix of the errors is correctly specified.\n"
          ]
        }
      ]
    },
    {
      "cell_type": "markdown",
      "source": [
        "# Non-Linear Regression\n",
        "\n",
        "R^2 is 0.000 again, so we did not move forward with this analysis."
      ],
      "metadata": {
        "id": "hd0Jmz5PcttM"
      }
    },
    {
      "cell_type": "code",
      "source": [
        "df['age_squared'] = df['Age'] ** 2\n",
        "X = df[['Age', 'age_squared']]\n",
        "X = sm.add_constant(X)\n",
        "\n",
        "model = sm.OLS(y, X).fit()\n",
        "print(model.summary())"
      ],
      "metadata": {
        "colab": {
          "base_uri": "https://localhost:8080/"
        },
        "id": "M2DRxy8PcwdV",
        "outputId": "f95ecddf-53ab-4486-b140-25f3da86ec58"
      },
      "execution_count": null,
      "outputs": [
        {
          "output_type": "stream",
          "name": "stdout",
          "text": [
            "                            OLS Regression Results                            \n",
            "==============================================================================\n",
            "Dep. Variable:              sentiment   R-squared:                       0.000\n",
            "Model:                            OLS   Adj. R-squared:                 -0.001\n",
            "Method:                 Least Squares   F-statistic:                    0.3460\n",
            "Date:                Tue, 11 Feb 2025   Prob (F-statistic):              0.708\n",
            "Time:                        19:52:44   Log-Likelihood:                -1438.1\n",
            "No. Observations:                2566   AIC:                             2882.\n",
            "Df Residuals:                    2563   BIC:                             2900.\n",
            "Df Model:                           2                                         \n",
            "Covariance Type:            nonrobust                                         \n",
            "===============================================================================\n",
            "                  coef    std err          t      P>|t|      [0.025      0.975]\n",
            "-------------------------------------------------------------------------------\n",
            "const           0.7639      0.026     28.878      0.000       0.712       0.816\n",
            "Age             0.0023      0.003      0.781      0.435      -0.004       0.008\n",
            "age_squared -4.864e-05   5.89e-05     -0.825      0.409      -0.000    6.69e-05\n",
            "==============================================================================\n",
            "Omnibus:                     1419.859   Durbin-Watson:                   1.892\n",
            "Prob(Omnibus):                  0.000   Jarque-Bera (JB):             7919.010\n",
            "Skew:                          -2.732   Prob(JB):                         0.00\n",
            "Kurtosis:                       9.649   Cond. No.                     2.38e+03\n",
            "==============================================================================\n",
            "\n",
            "Notes:\n",
            "[1] Standard Errors assume that the covariance matrix of the errors is correctly specified.\n",
            "[2] The condition number is large, 2.38e+03. This might indicate that there are\n",
            "strong multicollinearity or other numerical problems.\n"
          ]
        }
      ]
    }
  ]
}
