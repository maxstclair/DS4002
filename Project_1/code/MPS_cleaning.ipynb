{
 "cells": [
  {
   "cell_type": "code",
   "execution_count": 8,
   "id": "64a1a1d9-11bd-484b-9718-12267146275e",
   "metadata": {},
   "outputs": [
    {
     "name": "stdout",
     "output_type": "stream",
     "text": [
      "/Users/maxstclair/Downloads\n"
     ]
    }
   ],
   "source": [
    "import os\n",
    "os.chdir('/Users/maxstclair/Downloads')\n",
    "print(os.getcwd())"
   ]
  },
  {
   "cell_type": "code",
   "execution_count": 11,
   "id": "8207248e-921c-47c9-847f-7e03fea3dc4d",
   "metadata": {},
   "outputs": [],
   "source": [
    "import pandas as pd\n",
    "import numpy as np\n",
    "import matplotlib.pyplot as plt\n",
    "import seaborn as sns"
   ]
  },
  {
   "cell_type": "code",
   "execution_count": 36,
   "id": "7ad903fa-c583-454a-91b7-e88a21fc4620",
   "metadata": {},
   "outputs": [],
   "source": [
    "df_duners = pd.read_csv('DS 4002/Project 1/Duners_reviews.csv')\n",
    "df_brazos = pd.read_csv('DS 4002/Project 1/brazos_reviews.csv')\n",
    "df_guad = pd.read_csv('DS 4002/Project 1/guad_reviews.csv')\n",
    "df_monsoon = pd.read_csv('DS 4002/Project 1/monsoon_reviews.csv')\n",
    "df_oakhart = pd.read_csv('DS 4002/Project 1/oakhart_reviews.csv')\n",
    "df_petitpois = pd.read_csv('DS 4002/Project 1/petitpois_reviews.csv', encoding=\"ISO-8859-1\")\n",
    "df_publicfish = pd.read_csv('DS 4002/Project 1/publicfish_reviews.csv')\n",
    "df_ridley = pd.read_csv('DS 4002/Project 1/ridley_reviews.csv')"
   ]
  },
  {
   "cell_type": "code",
   "execution_count": 80,
   "id": "9f83ee84-5842-42f4-be89-e3353869952a",
   "metadata": {},
   "outputs": [
    {
     "data": {
      "text/html": [
       "<div>\n",
       "<style scoped>\n",
       "    .dataframe tbody tr th:only-of-type {\n",
       "        vertical-align: middle;\n",
       "    }\n",
       "\n",
       "    .dataframe tbody tr th {\n",
       "        vertical-align: top;\n",
       "    }\n",
       "\n",
       "    .dataframe thead th {\n",
       "        text-align: right;\n",
       "    }\n",
       "</style>\n",
       "<table border=\"1\" class=\"dataframe\">\n",
       "  <thead>\n",
       "    <tr style=\"text-align: right;\">\n",
       "      <th></th>\n",
       "      <th>Date</th>\n",
       "      <th>Rating</th>\n",
       "      <th>Message</th>\n",
       "      <th>Author Reviews</th>\n",
       "      <th>Restaurant</th>\n",
       "    </tr>\n",
       "  </thead>\n",
       "  <tbody>\n",
       "    <tr>\n",
       "      <th>0</th>\n",
       "      <td>2008-08-29</td>\n",
       "      <td>5.0</td>\n",
       "      <td>Love this restaurant.  The menu changes in lit...</td>\n",
       "      <td>13.0</td>\n",
       "      <td>Duners</td>\n",
       "    </tr>\n",
       "    <tr>\n",
       "      <th>1</th>\n",
       "      <td>2009-03-26</td>\n",
       "      <td>5.0</td>\n",
       "      <td>A daily menu with lots of choices!  Food was g...</td>\n",
       "      <td>38.0</td>\n",
       "      <td>Duners</td>\n",
       "    </tr>\n",
       "  </tbody>\n",
       "</table>\n",
       "</div>"
      ],
      "text/plain": [
       "        Date  Rating                                            Message  \\\n",
       "0 2008-08-29     5.0  Love this restaurant.  The menu changes in lit...   \n",
       "1 2009-03-26     5.0  A daily menu with lots of choices!  Food was g...   \n",
       "\n",
       "   Author Reviews Restaurant  \n",
       "0            13.0     Duners  \n",
       "1            38.0     Duners  "
      ]
     },
     "execution_count": 80,
     "metadata": {},
     "output_type": "execute_result"
    }
   ],
   "source": [
    "df_duners.drop(['Unnamed: 0', 'Unnamed: 1', '(view source)','Cool','Funny','Useful','Author','Author Friends'], axis=1, inplace=True)\n",
    "df_duners['Date'] = pd.to_datetime(df_duners['Date'], format='%d/%m/%y')\n",
    "df_duners['Restaurant'] = 'Duners'\n",
    "df_duners.head(2)"
   ]
  },
  {
   "cell_type": "code",
   "execution_count": 84,
   "id": "7ef94a77-d7ba-4a8a-bfce-6b238977b7ac",
   "metadata": {},
   "outputs": [
    {
     "data": {
      "text/html": [
       "<div>\n",
       "<style scoped>\n",
       "    .dataframe tbody tr th:only-of-type {\n",
       "        vertical-align: middle;\n",
       "    }\n",
       "\n",
       "    .dataframe tbody tr th {\n",
       "        vertical-align: top;\n",
       "    }\n",
       "\n",
       "    .dataframe thead th {\n",
       "        text-align: right;\n",
       "    }\n",
       "</style>\n",
       "<table border=\"1\" class=\"dataframe\">\n",
       "  <thead>\n",
       "    <tr style=\"text-align: right;\">\n",
       "      <th></th>\n",
       "      <th>Date</th>\n",
       "      <th>Rating</th>\n",
       "      <th>Message</th>\n",
       "      <th>Author Reviews</th>\n",
       "      <th>Restaurant</th>\n",
       "    </tr>\n",
       "  </thead>\n",
       "  <tbody>\n",
       "    <tr>\n",
       "      <th>0</th>\n",
       "      <td>2016-11-11</td>\n",
       "      <td>4.0</td>\n",
       "      <td>Alas, I must update my review for Brazos. I am...</td>\n",
       "      <td>315.0</td>\n",
       "      <td>Brazos</td>\n",
       "    </tr>\n",
       "    <tr>\n",
       "      <th>1</th>\n",
       "      <td>2017-04-11</td>\n",
       "      <td>2.0</td>\n",
       "      <td>I had received catering from this place a few ...</td>\n",
       "      <td>385.0</td>\n",
       "      <td>Brazos</td>\n",
       "    </tr>\n",
       "  </tbody>\n",
       "</table>\n",
       "</div>"
      ],
      "text/plain": [
       "        Date  Rating                                            Message  \\\n",
       "0 2016-11-11     4.0  Alas, I must update my review for Brazos. I am...   \n",
       "1 2017-04-11     2.0  I had received catering from this place a few ...   \n",
       "\n",
       "   Author Reviews Restaurant  \n",
       "0           315.0     Brazos  \n",
       "1           385.0     Brazos  "
      ]
     },
     "execution_count": 84,
     "metadata": {},
     "output_type": "execute_result"
    }
   ],
   "source": [
    "df_brazos.drop(['Unnamed: 0', 'Unnamed: 1', 'Author', 'Cool','Funny','Useful','Author Friends', '(view source)'], axis=1, inplace=True)\n",
    "df_brazos['Date'] = pd.to_datetime(df_brazos['Date'], format='%d/%m/%y')\n",
    "df_brazos['Restaurant'] = 'Brazos'\n",
    "df_brazos.head(2)"
   ]
  },
  {
   "cell_type": "code",
   "execution_count": 88,
   "id": "42684ce9-a6a4-41af-a0ca-23b35faf0421",
   "metadata": {},
   "outputs": [
    {
     "data": {
      "text/html": [
       "<div>\n",
       "<style scoped>\n",
       "    .dataframe tbody tr th:only-of-type {\n",
       "        vertical-align: middle;\n",
       "    }\n",
       "\n",
       "    .dataframe tbody tr th {\n",
       "        vertical-align: top;\n",
       "    }\n",
       "\n",
       "    .dataframe thead th {\n",
       "        text-align: right;\n",
       "    }\n",
       "</style>\n",
       "<table border=\"1\" class=\"dataframe\">\n",
       "  <thead>\n",
       "    <tr style=\"text-align: right;\">\n",
       "      <th></th>\n",
       "      <th>Date</th>\n",
       "      <th>Rating</th>\n",
       "      <th>Message</th>\n",
       "      <th>Author Reviews</th>\n",
       "      <th>Restaurant</th>\n",
       "    </tr>\n",
       "  </thead>\n",
       "  <tbody>\n",
       "    <tr>\n",
       "      <th>0</th>\n",
       "      <td>2006-08-18</td>\n",
       "      <td>5.0</td>\n",
       "      <td>Not only is this what you want in a local mexi...</td>\n",
       "      <td>25.0</td>\n",
       "      <td>Guad</td>\n",
       "    </tr>\n",
       "    <tr>\n",
       "      <th>1</th>\n",
       "      <td>2008-12-17</td>\n",
       "      <td>4.0</td>\n",
       "      <td>Mmmmmmm - Guady's chips and salsa are tasty! I...</td>\n",
       "      <td>44.0</td>\n",
       "      <td>Guad</td>\n",
       "    </tr>\n",
       "  </tbody>\n",
       "</table>\n",
       "</div>"
      ],
      "text/plain": [
       "        Date  Rating                                            Message  \\\n",
       "0 2006-08-18     5.0  Not only is this what you want in a local mexi...   \n",
       "1 2008-12-17     4.0  Mmmmmmm - Guady's chips and salsa are tasty! I...   \n",
       "\n",
       "   Author Reviews Restaurant  \n",
       "0            25.0       Guad  \n",
       "1            44.0       Guad  "
      ]
     },
     "execution_count": 88,
     "metadata": {},
     "output_type": "execute_result"
    }
   ],
   "source": [
    "df_guad.drop(['Unnamed: 0', 'Unnamed: 1', 'Author', 'Cool','Funny','Useful','Author Friends', '(view source)'], axis=1, inplace=True)\n",
    "df_guad['Date'] = pd.to_datetime(df_guad['Date'], format='%d/%m/%y')\n",
    "df_guad['Restaurant'] = 'Guad'\n",
    "df_guad.head(2)"
   ]
  },
  {
   "cell_type": "code",
   "execution_count": 114,
   "id": "47b77491-613a-4cde-aec6-5aa208647c56",
   "metadata": {},
   "outputs": [
    {
     "data": {
      "text/html": [
       "<div>\n",
       "<style scoped>\n",
       "    .dataframe tbody tr th:only-of-type {\n",
       "        vertical-align: middle;\n",
       "    }\n",
       "\n",
       "    .dataframe tbody tr th {\n",
       "        vertical-align: top;\n",
       "    }\n",
       "\n",
       "    .dataframe thead th {\n",
       "        text-align: right;\n",
       "    }\n",
       "</style>\n",
       "<table border=\"1\" class=\"dataframe\">\n",
       "  <thead>\n",
       "    <tr style=\"text-align: right;\">\n",
       "      <th></th>\n",
       "      <th>Date</th>\n",
       "      <th>Rating</th>\n",
       "      <th>Message</th>\n",
       "      <th>Author Reviews</th>\n",
       "      <th>Restaurant</th>\n",
       "    </tr>\n",
       "  </thead>\n",
       "  <tbody>\n",
       "    <tr>\n",
       "      <th>1</th>\n",
       "      <td>2016-12-23</td>\n",
       "      <td>4</td>\n",
       "      <td>This place is definitely one of my favorite re...</td>\n",
       "      <td>222</td>\n",
       "      <td>Monsoon</td>\n",
       "    </tr>\n",
       "    <tr>\n",
       "      <th>2</th>\n",
       "      <td>2016-12-27</td>\n",
       "      <td>4</td>\n",
       "      <td>Very cute restauraunt. The seating is a bit li...</td>\n",
       "      <td>126</td>\n",
       "      <td>Monsoon</td>\n",
       "    </tr>\n",
       "  </tbody>\n",
       "</table>\n",
       "</div>"
      ],
      "text/plain": [
       "         Date  Rating                                            Message  \\\n",
       "1  2016-12-23       4  This place is definitely one of my favorite re...   \n",
       "2  2016-12-27       4  Very cute restauraunt. The seating is a bit li...   \n",
       "\n",
       "   Author Reviews Restaurant  \n",
       "1             222    Monsoon  \n",
       "2             126    Monsoon  "
      ]
     },
     "execution_count": 114,
     "metadata": {},
     "output_type": "execute_result"
    }
   ],
   "source": [
    "df_monsoon.drop(['Unnamed: 0', 'Unnamed: 1', 'Date', 'Cool','Funny','Useful','Author Friends', 'Author ID','Location','Profile URL',\n",
    "                 'Profile Photo','URL'], axis=1, inplace=True)\n",
    "df_monsoon['Date'] = pd.to_datetime(df_monsoon['Author']).dt.date\n",
    "df_monsoon.drop(['Author'], axis=1, inplace=True)\n",
    "df_monsoon['Restaurant'] = 'Monsoon'\n",
    "df_monsoon = df_monsoon.loc[:, ['Date', 'Rating', 'Message', 'Author Reviews', 'Restaurant']]\n",
    "df_monsoon.head(2)"
   ]
  },
  {
   "cell_type": "code",
   "execution_count": 120,
   "id": "351fae0f-958b-455d-a184-06625b2f6ef8",
   "metadata": {},
   "outputs": [
    {
     "data": {
      "text/html": [
       "<div>\n",
       "<style scoped>\n",
       "    .dataframe tbody tr th:only-of-type {\n",
       "        vertical-align: middle;\n",
       "    }\n",
       "\n",
       "    .dataframe tbody tr th {\n",
       "        vertical-align: top;\n",
       "    }\n",
       "\n",
       "    .dataframe thead th {\n",
       "        text-align: right;\n",
       "    }\n",
       "</style>\n",
       "<table border=\"1\" class=\"dataframe\">\n",
       "  <thead>\n",
       "    <tr style=\"text-align: right;\">\n",
       "      <th></th>\n",
       "      <th>Date</th>\n",
       "      <th>Rating</th>\n",
       "      <th>Message</th>\n",
       "      <th>Author Reviews</th>\n",
       "      <th>Restaurant</th>\n",
       "    </tr>\n",
       "  </thead>\n",
       "  <tbody>\n",
       "    <tr>\n",
       "      <th>0</th>\n",
       "      <td>2015-05-06</td>\n",
       "      <td>4.0</td>\n",
       "      <td>Maybe it was the twinkling lights or the expos...</td>\n",
       "      <td>2041.0</td>\n",
       "      <td>Oakhart</td>\n",
       "    </tr>\n",
       "    <tr>\n",
       "      <th>1</th>\n",
       "      <td>2016-02-25</td>\n",
       "      <td>4.0</td>\n",
       "      <td>Service: 5.0/5.0\\nFood: 3.5/5.0\\nOverall Exper...</td>\n",
       "      <td>56.0</td>\n",
       "      <td>Oakhart</td>\n",
       "    </tr>\n",
       "  </tbody>\n",
       "</table>\n",
       "</div>"
      ],
      "text/plain": [
       "        Date  Rating                                            Message  \\\n",
       "0 2015-05-06     4.0  Maybe it was the twinkling lights or the expos...   \n",
       "1 2016-02-25     4.0  Service: 5.0/5.0\\nFood: 3.5/5.0\\nOverall Exper...   \n",
       "\n",
       "   Author Reviews Restaurant  \n",
       "0          2041.0    Oakhart  \n",
       "1            56.0    Oakhart  "
      ]
     },
     "execution_count": 120,
     "metadata": {},
     "output_type": "execute_result"
    }
   ],
   "source": [
    "df_oakhart.drop(['Unnamed: 0', 'Unnamed: 1', 'Author', 'Cool','Funny','Useful','Author Friends', '(view source)'], axis=1, inplace=True)\n",
    "df_oakhart['Date'] = pd.to_datetime(df_oakhart['Date'], format='%d/%m/%y')\n",
    "df_oakhart['Restaurant'] = 'Oakhart'\n",
    "df_oakhart.head(2)"
   ]
  },
  {
   "cell_type": "code",
   "execution_count": 124,
   "id": "ce6f61a2-0114-48e3-a54b-a3836465d87e",
   "metadata": {},
   "outputs": [
    {
     "data": {
      "text/html": [
       "<div>\n",
       "<style scoped>\n",
       "    .dataframe tbody tr th:only-of-type {\n",
       "        vertical-align: middle;\n",
       "    }\n",
       "\n",
       "    .dataframe tbody tr th {\n",
       "        vertical-align: top;\n",
       "    }\n",
       "\n",
       "    .dataframe thead th {\n",
       "        text-align: right;\n",
       "    }\n",
       "</style>\n",
       "<table border=\"1\" class=\"dataframe\">\n",
       "  <thead>\n",
       "    <tr style=\"text-align: right;\">\n",
       "      <th></th>\n",
       "      <th>Date</th>\n",
       "      <th>Rating</th>\n",
       "      <th>Message</th>\n",
       "      <th>Author Reviews</th>\n",
       "      <th>Restaurant</th>\n",
       "    </tr>\n",
       "  </thead>\n",
       "  <tbody>\n",
       "    <tr>\n",
       "      <th>0</th>\n",
       "      <td>2008-12-29</td>\n",
       "      <td>4</td>\n",
       "      <td>This is an excellent restaurant right on main ...</td>\n",
       "      <td>62</td>\n",
       "      <td>petitpois</td>\n",
       "    </tr>\n",
       "    <tr>\n",
       "      <th>1</th>\n",
       "      <td>2009-07-28</td>\n",
       "      <td>4</td>\n",
       "      <td>Ate outside at Petit Pois beside Senator Warne...</td>\n",
       "      <td>53</td>\n",
       "      <td>petitpois</td>\n",
       "    </tr>\n",
       "  </tbody>\n",
       "</table>\n",
       "</div>"
      ],
      "text/plain": [
       "        Date  Rating                                            Message  \\\n",
       "0 2008-12-29       4  This is an excellent restaurant right on main ...   \n",
       "1 2009-07-28       4  Ate outside at Petit Pois beside Senator Warne...   \n",
       "\n",
       "   Author Reviews Restaurant  \n",
       "0              62  petitpois  \n",
       "1              53  petitpois  "
      ]
     },
     "execution_count": 124,
     "metadata": {},
     "output_type": "execute_result"
    }
   ],
   "source": [
    "df_petitpois.drop(['Unnamed: 0', 'Unnamed: 1', 'Author', 'Cool','Funny','Useful','Author Friends', '(view source)'], axis=1, inplace=True)\n",
    "df_petitpois['Date'] = pd.to_datetime(df_petitpois['Date'], format='%d/%m/%y')\n",
    "df_petitpois['Restaurant'] = 'petitpois'\n",
    "df_petitpois.head(2)"
   ]
  },
  {
   "cell_type": "code",
   "execution_count": 128,
   "id": "3b6e8059-813f-4c7e-9e7d-4397ef5dc741",
   "metadata": {},
   "outputs": [
    {
     "data": {
      "text/html": [
       "<div>\n",
       "<style scoped>\n",
       "    .dataframe tbody tr th:only-of-type {\n",
       "        vertical-align: middle;\n",
       "    }\n",
       "\n",
       "    .dataframe tbody tr th {\n",
       "        vertical-align: top;\n",
       "    }\n",
       "\n",
       "    .dataframe thead th {\n",
       "        text-align: right;\n",
       "    }\n",
       "</style>\n",
       "<table border=\"1\" class=\"dataframe\">\n",
       "  <thead>\n",
       "    <tr style=\"text-align: right;\">\n",
       "      <th></th>\n",
       "      <th>Date</th>\n",
       "      <th>Rating</th>\n",
       "      <th>Message</th>\n",
       "      <th>Author Reviews</th>\n",
       "      <th>Restaurant</th>\n",
       "    </tr>\n",
       "  </thead>\n",
       "  <tbody>\n",
       "    <tr>\n",
       "      <th>0</th>\n",
       "      <td>2019-03-11</td>\n",
       "      <td>5.0</td>\n",
       "      <td>The best seafood I have ever had in Charlottes...</td>\n",
       "      <td>211.0</td>\n",
       "      <td>publicfish</td>\n",
       "    </tr>\n",
       "    <tr>\n",
       "      <th>1</th>\n",
       "      <td>2019-10-06</td>\n",
       "      <td>5.0</td>\n",
       "      <td>One of my favorite spots in C'Ville!  Make sur...</td>\n",
       "      <td>313.0</td>\n",
       "      <td>publicfish</td>\n",
       "    </tr>\n",
       "  </tbody>\n",
       "</table>\n",
       "</div>"
      ],
      "text/plain": [
       "        Date  Rating                                            Message  \\\n",
       "0 2019-03-11     5.0  The best seafood I have ever had in Charlottes...   \n",
       "1 2019-10-06     5.0  One of my favorite spots in C'Ville!  Make sur...   \n",
       "\n",
       "   Author Reviews  Restaurant  \n",
       "0           211.0  publicfish  \n",
       "1           313.0  publicfish  "
      ]
     },
     "execution_count": 128,
     "metadata": {},
     "output_type": "execute_result"
    }
   ],
   "source": [
    "df_publicfish.drop(['Unnamed: 0', 'Unnamed: 1', 'Author', 'Cool','Funny','Useful','Author Friends', '(view source)'], axis=1, inplace=True)\n",
    "df_publicfish['Date'] = pd.to_datetime(df_publicfish['Date'], format='%d/%m/%y')\n",
    "df_publicfish['Restaurant'] = 'publicfish'\n",
    "df_publicfish.head(2)"
   ]
  },
  {
   "cell_type": "code",
   "execution_count": 132,
   "id": "ee319642-6f65-47ff-bc5b-ed1e162847f1",
   "metadata": {},
   "outputs": [
    {
     "data": {
      "text/html": [
       "<div>\n",
       "<style scoped>\n",
       "    .dataframe tbody tr th:only-of-type {\n",
       "        vertical-align: middle;\n",
       "    }\n",
       "\n",
       "    .dataframe tbody tr th {\n",
       "        vertical-align: top;\n",
       "    }\n",
       "\n",
       "    .dataframe thead th {\n",
       "        text-align: right;\n",
       "    }\n",
       "</style>\n",
       "<table border=\"1\" class=\"dataframe\">\n",
       "  <thead>\n",
       "    <tr style=\"text-align: right;\">\n",
       "      <th></th>\n",
       "      <th>Date</th>\n",
       "      <th>Rating</th>\n",
       "      <th>Message</th>\n",
       "      <th>Author Reviews</th>\n",
       "      <th>Restaurant</th>\n",
       "    </tr>\n",
       "  </thead>\n",
       "  <tbody>\n",
       "    <tr>\n",
       "      <th>0</th>\n",
       "      <td>2021-04-10</td>\n",
       "      <td>5.0</td>\n",
       "      <td>This restaurant was such a great find during o...</td>\n",
       "      <td>28.0</td>\n",
       "      <td>ridley</td>\n",
       "    </tr>\n",
       "    <tr>\n",
       "      <th>1</th>\n",
       "      <td>2021-04-12</td>\n",
       "      <td>4.0</td>\n",
       "      <td>I enjoyed an excellent brunch a few Sundays ag...</td>\n",
       "      <td>2.0</td>\n",
       "      <td>ridley</td>\n",
       "    </tr>\n",
       "  </tbody>\n",
       "</table>\n",
       "</div>"
      ],
      "text/plain": [
       "        Date  Rating                                            Message  \\\n",
       "0 2021-04-10     5.0  This restaurant was such a great find during o...   \n",
       "1 2021-04-12     4.0  I enjoyed an excellent brunch a few Sundays ag...   \n",
       "\n",
       "   Author Reviews Restaurant  \n",
       "0            28.0     ridley  \n",
       "1             2.0     ridley  "
      ]
     },
     "execution_count": 132,
     "metadata": {},
     "output_type": "execute_result"
    }
   ],
   "source": [
    "df_ridley.drop(['Unnamed: 0', 'Unnamed: 1', 'Author', 'Cool','Funny','Useful','Author Friends', '(view source)'], axis=1, inplace=True)\n",
    "df_ridley['Date'] = pd.to_datetime(df_ridley['Date'], format='%d/%m/%y')\n",
    "df_ridley['Restaurant'] = 'ridley'\n",
    "df_ridley.head(2)"
   ]
  },
  {
   "cell_type": "code",
   "execution_count": 134,
   "id": "0dba9352-4c75-49f8-a0b7-f81f88f6bd91",
   "metadata": {},
   "outputs": [
    {
     "name": "stdout",
     "output_type": "stream",
     "text": [
      "   A  B\n",
      "0  1  3\n",
      "1  2  4\n",
      "2  5  7\n",
      "3  6  8\n"
     ]
    }
   ],
   "source": [
    "df1 = pd.DataFrame({'A': [1, 2], 'B': [3, 4]})\n",
    "df2 = pd.DataFrame({'A': [5, 6], 'B': [7, 8]})\n",
    "\n",
    "# Append df2 to df1\n",
    "result = pd.concat([df1, df2], ignore_index=True)\n",
    "\n",
    "print(result)"
   ]
  },
  {
   "cell_type": "code",
   "execution_count": 140,
   "id": "68657344-2e4c-4df9-98f0-1943bee04751",
   "metadata": {},
   "outputs": [
    {
     "data": {
      "text/html": [
       "<div>\n",
       "<style scoped>\n",
       "    .dataframe tbody tr th:only-of-type {\n",
       "        vertical-align: middle;\n",
       "    }\n",
       "\n",
       "    .dataframe tbody tr th {\n",
       "        vertical-align: top;\n",
       "    }\n",
       "\n",
       "    .dataframe thead th {\n",
       "        text-align: right;\n",
       "    }\n",
       "</style>\n",
       "<table border=\"1\" class=\"dataframe\">\n",
       "  <thead>\n",
       "    <tr style=\"text-align: right;\">\n",
       "      <th></th>\n",
       "      <th>Date</th>\n",
       "      <th>Rating</th>\n",
       "      <th>Message</th>\n",
       "      <th>Author Reviews</th>\n",
       "      <th>Restaurant</th>\n",
       "    </tr>\n",
       "  </thead>\n",
       "  <tbody>\n",
       "    <tr>\n",
       "      <th>0</th>\n",
       "      <td>2008-08-29 00:00:00</td>\n",
       "      <td>5.0</td>\n",
       "      <td>Love this restaurant.  The menu changes in lit...</td>\n",
       "      <td>13.0</td>\n",
       "      <td>Duners</td>\n",
       "    </tr>\n",
       "    <tr>\n",
       "      <th>1</th>\n",
       "      <td>2009-03-26 00:00:00</td>\n",
       "      <td>5.0</td>\n",
       "      <td>A daily menu with lots of choices!  Food was g...</td>\n",
       "      <td>38.0</td>\n",
       "      <td>Duners</td>\n",
       "    </tr>\n",
       "    <tr>\n",
       "      <th>2</th>\n",
       "      <td>2009-06-05 00:00:00</td>\n",
       "      <td>5.0</td>\n",
       "      <td>Fabulous!  I love this place - fantastic food ...</td>\n",
       "      <td>228.0</td>\n",
       "      <td>Duners</td>\n",
       "    </tr>\n",
       "    <tr>\n",
       "      <th>3</th>\n",
       "      <td>2009-08-11 00:00:00</td>\n",
       "      <td>5.0</td>\n",
       "      <td>This was a hard decision between 4 and 5 stars...</td>\n",
       "      <td>87.0</td>\n",
       "      <td>Duners</td>\n",
       "    </tr>\n",
       "    <tr>\n",
       "      <th>4</th>\n",
       "      <td>2009-09-02 00:00:00</td>\n",
       "      <td>5.0</td>\n",
       "      <td>With Duner's, it's all about the food.  This v...</td>\n",
       "      <td>59.0</td>\n",
       "      <td>Duners</td>\n",
       "    </tr>\n",
       "  </tbody>\n",
       "</table>\n",
       "</div>"
      ],
      "text/plain": [
       "                  Date  Rating  \\\n",
       "0  2008-08-29 00:00:00     5.0   \n",
       "1  2009-03-26 00:00:00     5.0   \n",
       "2  2009-06-05 00:00:00     5.0   \n",
       "3  2009-08-11 00:00:00     5.0   \n",
       "4  2009-09-02 00:00:00     5.0   \n",
       "\n",
       "                                             Message  Author Reviews  \\\n",
       "0  Love this restaurant.  The menu changes in lit...            13.0   \n",
       "1  A daily menu with lots of choices!  Food was g...            38.0   \n",
       "2  Fabulous!  I love this place - fantastic food ...           228.0   \n",
       "3  This was a hard decision between 4 and 5 stars...            87.0   \n",
       "4  With Duner's, it's all about the food.  This v...            59.0   \n",
       "\n",
       "  Restaurant  \n",
       "0     Duners  \n",
       "1     Duners  \n",
       "2     Duners  \n",
       "3     Duners  \n",
       "4     Duners  "
      ]
     },
     "execution_count": 140,
     "metadata": {},
     "output_type": "execute_result"
    }
   ],
   "source": [
    "mps_restaurant = pd.concat([df_duners, df_brazos, df_guad, df_monsoon, df_oakhart, df_petitpois, df_publicfish, df_ridley])\n",
    "mps_restaurant.head()"
   ]
  },
  {
   "cell_type": "code",
   "execution_count": 143,
   "id": "09b72aa5-0d7b-483b-ac59-0ccb5f17af6a",
   "metadata": {},
   "outputs": [],
   "source": [
    "mps_restaurant.to_csv('MPS_restaurant.csv', index = False)"
   ]
  }
 ],
 "metadata": {
  "kernelspec": {
   "display_name": "Python 3 (ipykernel)",
   "language": "python",
   "name": "python3"
  },
  "language_info": {
   "codemirror_mode": {
    "name": "ipython",
    "version": 3
   },
   "file_extension": ".py",
   "mimetype": "text/x-python",
   "name": "python",
   "nbconvert_exporter": "python",
   "pygments_lexer": "ipython3",
   "version": "3.12.4"
  }
 },
 "nbformat": 4,
 "nbformat_minor": 5
}
