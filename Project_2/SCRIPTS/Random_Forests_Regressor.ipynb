{
  "nbformat": 4,
  "nbformat_minor": 0,
  "metadata": {
    "colab": {
      "provenance": []
    },
    "kernelspec": {
      "name": "python3",
      "display_name": "Python 3"
    },
    "language_info": {
      "name": "python"
    }
  },
  "cells": [
    {
      "cell_type": "code",
      "source": [
        "! git clone https://github.com/maxstclair/DS4002"
      ],
      "metadata": {
        "colab": {
          "base_uri": "https://localhost:8080/"
        },
        "id": "udNPaOs5N11M",
        "outputId": "fcdfd8b5-21ac-4e24-edb8-cc7447fd47d9"
      },
      "execution_count": 1,
      "outputs": [
        {
          "output_type": "stream",
          "name": "stdout",
          "text": [
            "Cloning into 'DS4002'...\n",
            "remote: Enumerating objects: 1094, done.\u001b[K\n",
            "remote: Counting objects: 100% (174/174), done.\u001b[K\n",
            "remote: Compressing objects: 100% (167/167), done.\u001b[K\n",
            "remote: Total 1094 (delta 73), reused 7 (delta 7), pack-reused 920 (from 2)\u001b[K\n",
            "Receiving objects: 100% (1094/1094), 13.35 MiB | 13.84 MiB/s, done.\n",
            "Resolving deltas: 100% (390/390), done.\n"
          ]
        }
      ]
    },
    {
      "cell_type": "code",
      "source": [
        "import numpy as np\n",
        "import pandas as pd\n",
        "import matplotlib.pyplot as plt\n",
        "import seaborn as sns\n",
        "import statsmodels.formula.api as smf"
      ],
      "metadata": {
        "id": "UP8M0eDNNygJ"
      },
      "execution_count": 2,
      "outputs": []
    },
    {
      "cell_type": "code",
      "source": [
        "power_df = pd.read_csv('/content/DS4002/Project_2/DATA/impute_df.csv')\n",
        "power_df.head()"
      ],
      "metadata": {
        "colab": {
          "base_uri": "https://localhost:8080/",
          "height": 345
        },
        "id": "ZNUcDvXCN6j4",
        "outputId": "9fe1144a-0a88-49d6-f2a6-2668f9d84e01"
      },
      "execution_count": 3,
      "outputs": [
        {
          "output_type": "execute_result",
          "data": {
            "text/plain": [
              "  UTC Timestamp (Interval Ending)  MISO Total Actual Load (MW)  \\\n",
              "0             2021-02-10 06:00:00                     77859.97   \n",
              "1             2021-02-10 07:00:00                     76211.10   \n",
              "2             2021-02-10 08:00:00                     75295.06   \n",
              "3             2021-02-10 09:00:00                     75164.21   \n",
              "4             2021-02-10 10:00:00                     75743.83   \n",
              "\n",
              "   Indianapolis Temperature (Fahrenheit)  \\\n",
              "0                                   19.9   \n",
              "1                                   19.9   \n",
              "2                                   19.9   \n",
              "3                                   19.9   \n",
              "4                                   19.9   \n",
              "\n",
              "   Minneapolis Temperature (Fahrenheit)  \\\n",
              "0                                   0.0   \n",
              "1                                  -0.9   \n",
              "2                                  -4.0   \n",
              "3                                  -2.0   \n",
              "4                                  -2.0   \n",
              "\n",
              "   New Orleans International Airport Temperature (Fahrenheit)  \\\n",
              "0                                               64.0            \n",
              "1                                               63.0            \n",
              "2                                               63.0            \n",
              "3                                               63.0            \n",
              "4                                               62.1            \n",
              "\n",
              "   MISO Total Wind Generation (MW)           GDP  \n",
              "0                          5376.71  3.478772e+06  \n",
              "1                          5019.58  3.478798e+06  \n",
              "2                          4895.51  3.478824e+06  \n",
              "3                          4747.13  3.478850e+06  \n",
              "4                          4341.06  3.478876e+06  "
            ],
            "text/html": [
              "\n",
              "  <div id=\"df-1d0e60bc-1cdc-4e3c-8765-4a1f85e86a8d\" class=\"colab-df-container\">\n",
              "    <div>\n",
              "<style scoped>\n",
              "    .dataframe tbody tr th:only-of-type {\n",
              "        vertical-align: middle;\n",
              "    }\n",
              "\n",
              "    .dataframe tbody tr th {\n",
              "        vertical-align: top;\n",
              "    }\n",
              "\n",
              "    .dataframe thead th {\n",
              "        text-align: right;\n",
              "    }\n",
              "</style>\n",
              "<table border=\"1\" class=\"dataframe\">\n",
              "  <thead>\n",
              "    <tr style=\"text-align: right;\">\n",
              "      <th></th>\n",
              "      <th>UTC Timestamp (Interval Ending)</th>\n",
              "      <th>MISO Total Actual Load (MW)</th>\n",
              "      <th>Indianapolis Temperature (Fahrenheit)</th>\n",
              "      <th>Minneapolis Temperature (Fahrenheit)</th>\n",
              "      <th>New Orleans International Airport Temperature (Fahrenheit)</th>\n",
              "      <th>MISO Total Wind Generation (MW)</th>\n",
              "      <th>GDP</th>\n",
              "    </tr>\n",
              "  </thead>\n",
              "  <tbody>\n",
              "    <tr>\n",
              "      <th>0</th>\n",
              "      <td>2021-02-10 06:00:00</td>\n",
              "      <td>77859.97</td>\n",
              "      <td>19.9</td>\n",
              "      <td>0.0</td>\n",
              "      <td>64.0</td>\n",
              "      <td>5376.71</td>\n",
              "      <td>3.478772e+06</td>\n",
              "    </tr>\n",
              "    <tr>\n",
              "      <th>1</th>\n",
              "      <td>2021-02-10 07:00:00</td>\n",
              "      <td>76211.10</td>\n",
              "      <td>19.9</td>\n",
              "      <td>-0.9</td>\n",
              "      <td>63.0</td>\n",
              "      <td>5019.58</td>\n",
              "      <td>3.478798e+06</td>\n",
              "    </tr>\n",
              "    <tr>\n",
              "      <th>2</th>\n",
              "      <td>2021-02-10 08:00:00</td>\n",
              "      <td>75295.06</td>\n",
              "      <td>19.9</td>\n",
              "      <td>-4.0</td>\n",
              "      <td>63.0</td>\n",
              "      <td>4895.51</td>\n",
              "      <td>3.478824e+06</td>\n",
              "    </tr>\n",
              "    <tr>\n",
              "      <th>3</th>\n",
              "      <td>2021-02-10 09:00:00</td>\n",
              "      <td>75164.21</td>\n",
              "      <td>19.9</td>\n",
              "      <td>-2.0</td>\n",
              "      <td>63.0</td>\n",
              "      <td>4747.13</td>\n",
              "      <td>3.478850e+06</td>\n",
              "    </tr>\n",
              "    <tr>\n",
              "      <th>4</th>\n",
              "      <td>2021-02-10 10:00:00</td>\n",
              "      <td>75743.83</td>\n",
              "      <td>19.9</td>\n",
              "      <td>-2.0</td>\n",
              "      <td>62.1</td>\n",
              "      <td>4341.06</td>\n",
              "      <td>3.478876e+06</td>\n",
              "    </tr>\n",
              "  </tbody>\n",
              "</table>\n",
              "</div>\n",
              "    <div class=\"colab-df-buttons\">\n",
              "\n",
              "  <div class=\"colab-df-container\">\n",
              "    <button class=\"colab-df-convert\" onclick=\"convertToInteractive('df-1d0e60bc-1cdc-4e3c-8765-4a1f85e86a8d')\"\n",
              "            title=\"Convert this dataframe to an interactive table.\"\n",
              "            style=\"display:none;\">\n",
              "\n",
              "  <svg xmlns=\"http://www.w3.org/2000/svg\" height=\"24px\" viewBox=\"0 -960 960 960\">\n",
              "    <path d=\"M120-120v-720h720v720H120Zm60-500h600v-160H180v160Zm220 220h160v-160H400v160Zm0 220h160v-160H400v160ZM180-400h160v-160H180v160Zm440 0h160v-160H620v160ZM180-180h160v-160H180v160Zm440 0h160v-160H620v160Z\"/>\n",
              "  </svg>\n",
              "    </button>\n",
              "\n",
              "  <style>\n",
              "    .colab-df-container {\n",
              "      display:flex;\n",
              "      gap: 12px;\n",
              "    }\n",
              "\n",
              "    .colab-df-convert {\n",
              "      background-color: #E8F0FE;\n",
              "      border: none;\n",
              "      border-radius: 50%;\n",
              "      cursor: pointer;\n",
              "      display: none;\n",
              "      fill: #1967D2;\n",
              "      height: 32px;\n",
              "      padding: 0 0 0 0;\n",
              "      width: 32px;\n",
              "    }\n",
              "\n",
              "    .colab-df-convert:hover {\n",
              "      background-color: #E2EBFA;\n",
              "      box-shadow: 0px 1px 2px rgba(60, 64, 67, 0.3), 0px 1px 3px 1px rgba(60, 64, 67, 0.15);\n",
              "      fill: #174EA6;\n",
              "    }\n",
              "\n",
              "    .colab-df-buttons div {\n",
              "      margin-bottom: 4px;\n",
              "    }\n",
              "\n",
              "    [theme=dark] .colab-df-convert {\n",
              "      background-color: #3B4455;\n",
              "      fill: #D2E3FC;\n",
              "    }\n",
              "\n",
              "    [theme=dark] .colab-df-convert:hover {\n",
              "      background-color: #434B5C;\n",
              "      box-shadow: 0px 1px 3px 1px rgba(0, 0, 0, 0.15);\n",
              "      filter: drop-shadow(0px 1px 2px rgba(0, 0, 0, 0.3));\n",
              "      fill: #FFFFFF;\n",
              "    }\n",
              "  </style>\n",
              "\n",
              "    <script>\n",
              "      const buttonEl =\n",
              "        document.querySelector('#df-1d0e60bc-1cdc-4e3c-8765-4a1f85e86a8d button.colab-df-convert');\n",
              "      buttonEl.style.display =\n",
              "        google.colab.kernel.accessAllowed ? 'block' : 'none';\n",
              "\n",
              "      async function convertToInteractive(key) {\n",
              "        const element = document.querySelector('#df-1d0e60bc-1cdc-4e3c-8765-4a1f85e86a8d');\n",
              "        const dataTable =\n",
              "          await google.colab.kernel.invokeFunction('convertToInteractive',\n",
              "                                                    [key], {});\n",
              "        if (!dataTable) return;\n",
              "\n",
              "        const docLinkHtml = 'Like what you see? Visit the ' +\n",
              "          '<a target=\"_blank\" href=https://colab.research.google.com/notebooks/data_table.ipynb>data table notebook</a>'\n",
              "          + ' to learn more about interactive tables.';\n",
              "        element.innerHTML = '';\n",
              "        dataTable['output_type'] = 'display_data';\n",
              "        await google.colab.output.renderOutput(dataTable, element);\n",
              "        const docLink = document.createElement('div');\n",
              "        docLink.innerHTML = docLinkHtml;\n",
              "        element.appendChild(docLink);\n",
              "      }\n",
              "    </script>\n",
              "  </div>\n",
              "\n",
              "\n",
              "<div id=\"df-9aa0e355-1496-46bb-84a2-3e24e688c9bc\">\n",
              "  <button class=\"colab-df-quickchart\" onclick=\"quickchart('df-9aa0e355-1496-46bb-84a2-3e24e688c9bc')\"\n",
              "            title=\"Suggest charts\"\n",
              "            style=\"display:none;\">\n",
              "\n",
              "<svg xmlns=\"http://www.w3.org/2000/svg\" height=\"24px\"viewBox=\"0 0 24 24\"\n",
              "     width=\"24px\">\n",
              "    <g>\n",
              "        <path d=\"M19 3H5c-1.1 0-2 .9-2 2v14c0 1.1.9 2 2 2h14c1.1 0 2-.9 2-2V5c0-1.1-.9-2-2-2zM9 17H7v-7h2v7zm4 0h-2V7h2v10zm4 0h-2v-4h2v4z\"/>\n",
              "    </g>\n",
              "</svg>\n",
              "  </button>\n",
              "\n",
              "<style>\n",
              "  .colab-df-quickchart {\n",
              "      --bg-color: #E8F0FE;\n",
              "      --fill-color: #1967D2;\n",
              "      --hover-bg-color: #E2EBFA;\n",
              "      --hover-fill-color: #174EA6;\n",
              "      --disabled-fill-color: #AAA;\n",
              "      --disabled-bg-color: #DDD;\n",
              "  }\n",
              "\n",
              "  [theme=dark] .colab-df-quickchart {\n",
              "      --bg-color: #3B4455;\n",
              "      --fill-color: #D2E3FC;\n",
              "      --hover-bg-color: #434B5C;\n",
              "      --hover-fill-color: #FFFFFF;\n",
              "      --disabled-bg-color: #3B4455;\n",
              "      --disabled-fill-color: #666;\n",
              "  }\n",
              "\n",
              "  .colab-df-quickchart {\n",
              "    background-color: var(--bg-color);\n",
              "    border: none;\n",
              "    border-radius: 50%;\n",
              "    cursor: pointer;\n",
              "    display: none;\n",
              "    fill: var(--fill-color);\n",
              "    height: 32px;\n",
              "    padding: 0;\n",
              "    width: 32px;\n",
              "  }\n",
              "\n",
              "  .colab-df-quickchart:hover {\n",
              "    background-color: var(--hover-bg-color);\n",
              "    box-shadow: 0 1px 2px rgba(60, 64, 67, 0.3), 0 1px 3px 1px rgba(60, 64, 67, 0.15);\n",
              "    fill: var(--button-hover-fill-color);\n",
              "  }\n",
              "\n",
              "  .colab-df-quickchart-complete:disabled,\n",
              "  .colab-df-quickchart-complete:disabled:hover {\n",
              "    background-color: var(--disabled-bg-color);\n",
              "    fill: var(--disabled-fill-color);\n",
              "    box-shadow: none;\n",
              "  }\n",
              "\n",
              "  .colab-df-spinner {\n",
              "    border: 2px solid var(--fill-color);\n",
              "    border-color: transparent;\n",
              "    border-bottom-color: var(--fill-color);\n",
              "    animation:\n",
              "      spin 1s steps(1) infinite;\n",
              "  }\n",
              "\n",
              "  @keyframes spin {\n",
              "    0% {\n",
              "      border-color: transparent;\n",
              "      border-bottom-color: var(--fill-color);\n",
              "      border-left-color: var(--fill-color);\n",
              "    }\n",
              "    20% {\n",
              "      border-color: transparent;\n",
              "      border-left-color: var(--fill-color);\n",
              "      border-top-color: var(--fill-color);\n",
              "    }\n",
              "    30% {\n",
              "      border-color: transparent;\n",
              "      border-left-color: var(--fill-color);\n",
              "      border-top-color: var(--fill-color);\n",
              "      border-right-color: var(--fill-color);\n",
              "    }\n",
              "    40% {\n",
              "      border-color: transparent;\n",
              "      border-right-color: var(--fill-color);\n",
              "      border-top-color: var(--fill-color);\n",
              "    }\n",
              "    60% {\n",
              "      border-color: transparent;\n",
              "      border-right-color: var(--fill-color);\n",
              "    }\n",
              "    80% {\n",
              "      border-color: transparent;\n",
              "      border-right-color: var(--fill-color);\n",
              "      border-bottom-color: var(--fill-color);\n",
              "    }\n",
              "    90% {\n",
              "      border-color: transparent;\n",
              "      border-bottom-color: var(--fill-color);\n",
              "    }\n",
              "  }\n",
              "</style>\n",
              "\n",
              "  <script>\n",
              "    async function quickchart(key) {\n",
              "      const quickchartButtonEl =\n",
              "        document.querySelector('#' + key + ' button');\n",
              "      quickchartButtonEl.disabled = true;  // To prevent multiple clicks.\n",
              "      quickchartButtonEl.classList.add('colab-df-spinner');\n",
              "      try {\n",
              "        const charts = await google.colab.kernel.invokeFunction(\n",
              "            'suggestCharts', [key], {});\n",
              "      } catch (error) {\n",
              "        console.error('Error during call to suggestCharts:', error);\n",
              "      }\n",
              "      quickchartButtonEl.classList.remove('colab-df-spinner');\n",
              "      quickchartButtonEl.classList.add('colab-df-quickchart-complete');\n",
              "    }\n",
              "    (() => {\n",
              "      let quickchartButtonEl =\n",
              "        document.querySelector('#df-9aa0e355-1496-46bb-84a2-3e24e688c9bc button');\n",
              "      quickchartButtonEl.style.display =\n",
              "        google.colab.kernel.accessAllowed ? 'block' : 'none';\n",
              "    })();\n",
              "  </script>\n",
              "</div>\n",
              "\n",
              "    </div>\n",
              "  </div>\n"
            ],
            "application/vnd.google.colaboratory.intrinsic+json": {
              "type": "dataframe",
              "variable_name": "power_df",
              "summary": "{\n  \"name\": \"power_df\",\n  \"rows\": 32627,\n  \"fields\": [\n    {\n      \"column\": \"UTC Timestamp (Interval Ending)\",\n      \"properties\": {\n        \"dtype\": \"object\",\n        \"num_unique_values\": 32627,\n        \"samples\": [\n          \"2024-05-01 03:00:00\",\n          \"2023-09-30 08:00:00\",\n          \"2022-02-05 03:00:00\"\n        ],\n        \"semantic_type\": \"\",\n        \"description\": \"\"\n      }\n    },\n    {\n      \"column\": \"MISO Total Actual Load (MW)\",\n      \"properties\": {\n        \"dtype\": \"number\",\n        \"std\": 11663.349415180184,\n        \"min\": 52125.79,\n        \"max\": 121560.24,\n        \"num_unique_values\": 32458,\n        \"samples\": [\n          77202.41,\n          77590.08,\n          78191.34\n        ],\n        \"semantic_type\": \"\",\n        \"description\": \"\"\n      }\n    },\n    {\n      \"column\": \"Indianapolis Temperature (Fahrenheit)\",\n      \"properties\": {\n        \"dtype\": \"number\",\n        \"std\": 19.318187890136382,\n        \"min\": -9.0,\n        \"max\": 99.0,\n        \"num_unique_values\": 280,\n        \"samples\": [\n          39.0,\n          71.95,\n          61.55\n        ],\n        \"semantic_type\": \"\",\n        \"description\": \"\"\n      }\n    },\n    {\n      \"column\": \"Minneapolis Temperature (Fahrenheit)\",\n      \"properties\": {\n        \"dtype\": \"number\",\n        \"std\": 23.587578590801,\n        \"min\": -18.9,\n        \"max\": 100.9,\n        \"num_unique_values\": 272,\n        \"samples\": [\n          12.0,\n          93.0,\n          60.1\n        ],\n        \"semantic_type\": \"\",\n        \"description\": \"\"\n      }\n    },\n    {\n      \"column\": \"New Orleans International Airport Temperature (Fahrenheit)\",\n      \"properties\": {\n        \"dtype\": \"number\",\n        \"std\": 13.143371460711236,\n        \"min\": 23.0,\n        \"max\": 99.0,\n        \"num_unique_values\": 231,\n        \"samples\": [\n          45.9,\n          75.9,\n          73.9\n        ],\n        \"semantic_type\": \"\",\n        \"description\": \"\"\n      }\n    },\n    {\n      \"column\": \"MISO Total Wind Generation (MW)\",\n      \"properties\": {\n        \"dtype\": \"number\",\n        \"std\": 5548.514991178533,\n        \"min\": -43.61,\n        \"max\": 25363.62,\n        \"num_unique_values\": 32315,\n        \"samples\": [\n          12171.6,\n          20240.66,\n          17782.8\n        ],\n        \"semantic_type\": \"\",\n        \"description\": \"\"\n      }\n    },\n    {\n      \"column\": \"GDP\",\n      \"properties\": {\n        \"dtype\": \"number\",\n        \"std\": 82098.42294478153,\n        \"min\": 3478771.7444444443,\n        \"max\": 3780043.923276359,\n        \"num_unique_values\": 32627,\n        \"samples\": [\n          3712074.799038461,\n          3682063.0355072464,\n          3566867.7263888894\n        ],\n        \"semantic_type\": \"\",\n        \"description\": \"\"\n      }\n    }\n  ]\n}"
            }
          },
          "metadata": {},
          "execution_count": 3
        }
      ]
    },
    {
      "cell_type": "code",
      "execution_count": 4,
      "metadata": {
        "colab": {
          "base_uri": "https://localhost:8080/"
        },
        "id": "hfXPI2U8NaJT",
        "outputId": "360ab61b-c5d6-4042-b5b0-9513d5eb0028"
      },
      "outputs": [
        {
          "output_type": "stream",
          "name": "stdout",
          "text": [
            "UTC Timestamp (Interval Ending)                               0\n",
            "MISO Total Actual Load (MW)                                   0\n",
            "Indianapolis Temperature (Fahrenheit)                         0\n",
            "Minneapolis Temperature (Fahrenheit)                          0\n",
            "New Orleans International Airport Temperature (Fahrenheit)    0\n",
            "MISO Total Wind Generation (MW)                               0\n",
            "GDP                                                           0\n",
            "dtype: int64\n"
          ]
        },
        {
          "output_type": "execute_result",
          "data": {
            "text/plain": [
              "(32627, 7)"
            ]
          },
          "metadata": {},
          "execution_count": 4
        }
      ],
      "source": [
        "na_counts = power_df.isna().sum()\n",
        "print(na_counts)\n",
        "power_df.shape"
      ]
    },
    {
      "cell_type": "code",
      "source": [
        "from sklearn.model_selection import train_test_split\n",
        "train, test = train_test_split(power_df, test_size=0.2, random_state=42)\n",
        "print(\"training set: \" + str(len(train)) + \", test set: \" + str(len(test)))"
      ],
      "metadata": {
        "colab": {
          "base_uri": "https://localhost:8080/"
        },
        "id": "w19ScrsECU-5",
        "outputId": "1b95689c-0bcf-416d-f213-996eee7c84ec"
      },
      "execution_count": 5,
      "outputs": [
        {
          "output_type": "stream",
          "name": "stdout",
          "text": [
            "training set: 26101, test set: 6526\n"
          ]
        }
      ]
    },
    {
      "cell_type": "code",
      "source": [
        "from sklearn.ensemble import RandomForestRegressor\n",
        "from sklearn.metrics import r2_score\n",
        "\n",
        "X_train = train.drop(columns=['MISO Total Actual Load (MW)','UTC Timestamp (Interval Ending)'])\n",
        "y_train = train['MISO Total Actual Load (MW)']\n",
        "X_test = test.drop(columns=['MISO Total Actual Load (MW)','UTC Timestamp (Interval Ending)'])\n",
        "y_test = test['MISO Total Actual Load (MW)']\n",
        "\n",
        "model = RandomForestRegressor()\n",
        "rf = model.fit(X_train, y_train)\n",
        "\n",
        "y_hat = rf.predict(X_test)\n",
        "r2 = r2_score(y_test, y_hat)\n",
        "r2"
      ],
      "metadata": {
        "colab": {
          "base_uri": "https://localhost:8080/"
        },
        "id": "sAgzK9dyClMW",
        "outputId": "a40b09cb-8bc7-4233-a1ee-6b658b1d5cd0"
      },
      "execution_count": 8,
      "outputs": [
        {
          "output_type": "execute_result",
          "data": {
            "text/plain": [
              "0.875776298427665"
            ]
          },
          "metadata": {},
          "execution_count": 8
        }
      ]
    },
    {
      "cell_type": "code",
      "source": [
        "forest_importances = pd.Series(rf.feature_importances_, index=X_train.columns )\n",
        "ax = forest_importances.plot.bar()\n",
        "ax.set_ylabel(\"Mean decrease in impurity\")\n",
        "new_labels = ['Indianapolis Temp','Minneapolis Temp','New Orleans Temp',\"MISO Wind Gen\",'GDP']\n",
        "ax.set_xticklabels(new_labels, rotation=45,ha='right')\n",
        "plt.title(\"Random Forest Feature Importances\")\n",
        "plt.show()"
      ],
      "metadata": {
        "colab": {
          "base_uri": "https://localhost:8080/",
          "height": 540
        },
        "id": "XFi3m07XDJJ4",
        "outputId": "d5645d64-0fb0-4e18-e708-e9c6284d8f4c"
      },
      "execution_count": 17,
      "outputs": [
        {
          "output_type": "display_data",
          "data": {
            "text/plain": [
              "<Figure size 640x480 with 1 Axes>"
            ],
            "image/png": "[encoded data removed]"
          },
          "metadata": {}
        }
      ]
    }
  ]
}